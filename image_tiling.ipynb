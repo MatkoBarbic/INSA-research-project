{
 "cells": [
  {
   "cell_type": "code",
   "execution_count": 1,
   "metadata": {},
   "outputs": [],
   "source": [
    "import os\n",
    "from utils import create_tiles"
   ]
  },
  {
   "cell_type": "code",
   "execution_count": 2,
   "metadata": {},
   "outputs": [
    {
     "name": "stdout",
     "output_type": "stream",
     "text": [
      "['.DS_Store', 'PL1_OPER_HIR_P_S_3__20191120T110200_N50-890_E004-469_2081.BI.PNG', 'PL1_OPER_HIR_P_S_3__20191120T110200_N50-890_E004-469_2081.MD.XML', 'PL1_OPER_HIR_P_S_3__20191120T110200_N50-890_E004-469_2081.MD.gfs', '4892109101', 'PL1_OPER_HIR_P_S_3__20191120T110200_N50-890_E004-469_2081.SI.XML']\n",
      "['.DS_Store', 'PL1_OPER_HIR_P_S_3__20191120T110200_N50-890_E004-469_2081.BI.PNG', 'PL1_OPER_HIR_P_S_3__20191120T110200_N50-890_E004-469_2081.MD.XML', 'PL1_OPER_HIR_P_S_3__20191120T110200_N50-890_E004-469_2081.MD.gfs', '4892109101', 'PL1_OPER_HIR_P_S_3__20191120T110200_N50-890_E004-469_2081.SI.XML']\n",
      "['.DS_Store', 'PL1_OPER_HIR_P_S_3__20191120T110200_N50-890_E004-469_2081.BI.PNG', 'PL1_OPER_HIR_P_S_3__20191120T110200_N50-890_E004-469_2081.MD.XML', 'PL1_OPER_HIR_P_S_3__20191120T110200_N50-890_E004-469_2081.MD.gfs', '4892109101', 'PL1_OPER_HIR_P_S_3__20191120T110200_N50-890_E004-469_2081.SI.XML']\n",
      "['.DS_Store', 'PL1_OPER_HIR_P_S_3__20191120T110200_N50-890_E004-469_2081.BI.PNG', 'PL1_OPER_HIR_P_S_3__20191120T110200_N50-890_E004-469_2081.MD.XML', 'PL1_OPER_HIR_P_S_3__20191120T110200_N50-890_E004-469_2081.MD.gfs', '4892109101', 'PL1_OPER_HIR_P_S_3__20191120T110200_N50-890_E004-469_2081.SI.XML']\n"
     ]
    }
   ],
   "source": [
    "for i in range(4):\n",
    "    print(os.listdir(\"../Pleiades images/PL1_OPER_HIR_P_S_3__20191120T110200_N50-890_E004-469_2081.SIP\"))"
   ]
  },
  {
   "cell_type": "code",
   "execution_count": 3,
   "metadata": {},
   "outputs": [
    {
     "data": {
      "text/plain": [
       "['.DS_Store',\n",
       " 'VOL_PHR.XML',\n",
       " 'IMG_PHR1B_P_001',\n",
       " 'DELIVERY.PDF',\n",
       " 'INDEX.HTM',\n",
       " 'LIBRARY',\n",
       " 'IMG_PHR1B_MS_002']"
      ]
     },
     "execution_count": 3,
     "metadata": {},
     "output_type": "execute_result"
    }
   ],
   "source": [
    "os.listdir(\"../Pleiades images/PL1_OPER_HIR_P_S_3__20191120T110200_N50-890_E004-469_2081.SIP/4892109101\")"
   ]
  },
  {
   "cell_type": "code",
   "execution_count": 4,
   "metadata": {},
   "outputs": [
    {
     "data": {
      "text/plain": [
       "['INDEX.HTM',\n",
       " 'LIBRARY',\n",
       " 'IMG_PHR1B_P_201911201102000_ORT_4892109101-1_R1C1.J2W',\n",
       " 'PREVIEW_PHR1B_P_201911201102000_ORT_4892109101-1.JPG',\n",
       " 'DIM_PHR1B_P_201911201102000_ORT_4892109101-1.XML',\n",
       " 'IMG_PHR1B_P_201911201102000_ORT_4892109101-1_R1C1.JP2',\n",
       " 'LINEAGE',\n",
       " 'ICON_PHR1B_P_201911201102000_ORT_4892109101-1.JPG',\n",
       " 'MASKS',\n",
       " 'PREVIEW_PHR1B_P_201911201102000_ORT_4892109101-1.KMZ']"
      ]
     },
     "execution_count": 4,
     "metadata": {},
     "output_type": "execute_result"
    }
   ],
   "source": [
    "os.listdir(\"../Pleiades images/PL1_OPER_HIR_P_S_3__20191120T110200_N50-890_E004-469_2081.SIP/4892109101/IMG_PHR1B_P_001\")"
   ]
  },
  {
   "cell_type": "code",
   "execution_count": 5,
   "metadata": {},
   "outputs": [],
   "source": [
    "path_to_image = \"../Pleiades images/PL1_OPER_HIR_P_S_3__20191120T110200_N50-890_E004-469_2081.SIP/4892109101/IMG_PHR1B_P_001/IMG_PHR1B_P_201911201102000_ORT_4892109101-1_R1C1.JP2\"\n",
    "create_tiles(path_to_image=path_to_image, output_folder=\"../data/panchromatic_images\", tile_size=2048, save_metadata=False)"
   ]
  }
 ],
 "metadata": {
  "kernelspec": {
   "display_name": "Python 3",
   "language": "python",
   "name": "python3"
  },
  "language_info": {
   "codemirror_mode": {
    "name": "ipython",
    "version": 3
   },
   "file_extension": ".py",
   "mimetype": "text/x-python",
   "name": "python",
   "nbconvert_exporter": "python",
   "pygments_lexer": "ipython3",
   "version": "3.11.1"
  }
 },
 "nbformat": 4,
 "nbformat_minor": 2
}
